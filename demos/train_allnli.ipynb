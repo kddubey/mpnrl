{
  "cells": [
    {
      "cell_type": "markdown",
      "metadata": {
        "id": "hPcpWU5PsO9q"
      },
      "source": [
        "**Description**: Sigmoid loss for text similarity training. Inspired by\n",
        "[SigLIP](https://arxiv.org/abs/2303.15343). MPNRL = Multiple Positives and Negatives\n",
        "Ranking Loss.\n",
        "\n",
        "**Usage**: run on a T4 GPU.\n",
        "\n",
        "Modified from this SentenceTransformers\n",
        "[script](https://github.com/UKPLab/sentence-transformers/blob/master/examples/training/matryoshka/matryoshka_nli.py)."
      ]
    },
    {
      "cell_type": "code",
      "execution_count": null,
      "metadata": {
        "collapsed": true,
        "id": "ZHpA1fetsVag"
      },
      "outputs": [],
      "source": [
        "%pip install git+https://github.com/kddubey/mpnrl.git"
      ]
    },
    {
      "cell_type": "code",
      "execution_count": null,
      "metadata": {},
      "outputs": [],
      "source": [
        "import os\n",
        "\n",
        "os.environ[\"WANDB_PROJECT\"] = \"mpnrl\"\n",
        "os.environ[\"WANDB_LOG_MODEL\"] = \"false\""
      ]
    },
    {
      "cell_type": "code",
      "execution_count": null,
      "metadata": {},
      "outputs": [],
      "source": [
        "!wandb login"
      ]
    },
    {
      "cell_type": "code",
      "execution_count": 1,
      "metadata": {
        "id": "oBGfPJwnsO9r"
      },
      "outputs": [],
      "source": [
        "from datetime import datetime\n",
        "\n",
        "from datasets import load_dataset\n",
        "from sentence_transformers import (\n",
        "    SentenceTransformer,\n",
        "    SentenceTransformerTrainer,\n",
        "    SentenceTransformerTrainingArguments,\n",
        "    losses,\n",
        ")\n",
        "from sentence_transformers.evaluation import (\n",
        "    EmbeddingSimilarityEvaluator,\n",
        "    SimilarityFunction,\n",
        ")\n",
        "from sentence_transformers.training_args import BatchSamplers\n",
        "import torch\n",
        "\n",
        "from mpnrl.collator import group_positives_by_anchor, MPNRLDataCollator\n",
        "from mpnrl.loss import MultiplePositivesNegativesRankingLoss"
      ]
    },
    {
      "cell_type": "code",
      "execution_count": 2,
      "metadata": {
        "id": "DWyTFKWKsO9r"
      },
      "outputs": [],
      "source": [
        "USE_CUSTOM = True"
      ]
    },
    {
      "cell_type": "markdown",
      "metadata": {},
      "source": [
        "# Load model and data"
      ]
    },
    {
      "cell_type": "code",
      "execution_count": 3,
      "metadata": {
        "id": "9RVjC8F0sO9s"
      },
      "outputs": [],
      "source": [
        "model_name = \"distilroberta-base\"\n",
        "\n",
        "batch_size = 128 if torch.cuda.is_available() else 8\n",
        "num_train_epochs = 1\n",
        "\n",
        "# Save path of the model\n",
        "output_dir = f\"output/sigltt_nli_{model_name.replace('/', '-')}-{datetime.now().strftime('%Y-%m-%d_%H-%M-%S')}\""
      ]
    },
    {
      "cell_type": "code",
      "execution_count": 4,
      "metadata": {
        "colab": {
          "base_uri": "https://localhost:8080/"
        },
        "id": "Ki9kAIxwsO9s",
        "outputId": "e43df3eb-3487-4e06-bd81-782633a6315a"
      },
      "outputs": [
        {
          "name": "stderr",
          "output_type": "stream",
          "text": [
            "No sentence-transformers model found with name distilroberta-base. Creating a new one with mean pooling.\n",
            "/Users/kdubey/Envs/base/lib/python3.11/site-packages/huggingface_hub/file_download.py:1132: FutureWarning: `resume_download` is deprecated and will be removed in version 1.0.0. Downloads always resume when possible. If you want to force a new download, use `force_download=True`.\n",
            "  warnings.warn(\n"
          ]
        }
      ],
      "source": [
        "# 1. Here we define our SentenceTransformer model. If not already a Sentence Transformer model, it will automatically\n",
        "# create one with \"mean\" pooling.\n",
        "model = SentenceTransformer(model_name)\n",
        "# If we want, we can limit the maximum sequence length for the model\n",
        "# model.max_seq_length = 75"
      ]
    },
    {
      "cell_type": "code",
      "execution_count": 44,
      "metadata": {
        "id": "Qzhfz9pIsO9t"
      },
      "outputs": [],
      "source": [
        "# 2. Load the AllNLI dataset:\n",
        "#    https://huggingface.co/datasets/sentence-transformers/all-nli\n",
        "dataset_name = \"sentence-transformers/all-nli\"\n",
        "train_dataset = load_dataset(dataset_name, \"triplet\", split=\"train\")\n",
        "\n",
        "# If you wish, you can limit the number of training samples\n",
        "train_dataset = train_dataset.select(range(10_000))"
      ]
    },
    {
      "cell_type": "code",
      "execution_count": 6,
      "metadata": {
        "colab": {
          "base_uri": "https://localhost:8080/"
        },
        "id": "8u-rux-NBR7-",
        "outputId": "9321b2cd-e0ac-42c6-ce9d-f54a74a9a7b8"
      },
      "outputs": [
        {
          "data": {
            "text/plain": [
              "356"
            ]
          },
          "execution_count": 6,
          "metadata": {},
          "output_type": "execute_result"
        }
      ],
      "source": [
        "len(set(train_dataset[\"anchor\"]))"
      ]
    },
    {
      "cell_type": "code",
      "execution_count": 7,
      "metadata": {
        "colab": {
          "base_uri": "https://localhost:8080/"
        },
        "id": "c7WFsXvYBR7-",
        "outputId": "c7cf8b32-02d8-4669-c669-2c8d02151c9f"
      },
      "outputs": [
        {
          "data": {
            "text/plain": [
              "1860"
            ]
          },
          "execution_count": 7,
          "metadata": {},
          "output_type": "execute_result"
        }
      ],
      "source": [
        "len(set(train_dataset[\"positive\"]))"
      ]
    },
    {
      "cell_type": "code",
      "execution_count": 8,
      "metadata": {
        "colab": {
          "base_uri": "https://localhost:8080/"
        },
        "id": "pUrt-IGvBR7-",
        "outputId": "7d8f606b-b229-4b70-80a5-fad0b5dff678"
      },
      "outputs": [
        {
          "data": {
            "text/plain": [
              "820"
            ]
          },
          "execution_count": 8,
          "metadata": {},
          "output_type": "execute_result"
        }
      ],
      "source": [
        "len(set(train_dataset[\"negative\"]))"
      ]
    },
    {
      "cell_type": "markdown",
      "metadata": {
        "id": "xxCO9zkcBR7-"
      },
      "source": [
        "Woah! Pretty sure this is the unfolded dataset from an `anchor: {positives: ...,\n",
        "negatives: ...}` dataset. We could fold the data back into that format, but we'll see\n",
        "that there's a huge skew in # positives and negatives per anchor. If we were to just\n",
        "plug in this data as is for training, we'd need way more memory for the large anchors\n",
        "than the small ones, which is inefficient. So we need to change how we feed/batch the\n",
        "data. There are a few ways to do it.\n",
        "\n",
        "I wanna explore the simplest one I can think of: feed the unfolded data via default\n",
        "(simple random) batch sampling, and group anchors in the data loader to create a batch\n",
        "of training data. One wrinkle is that we need to be careful about correct labels.\n",
        "\n",
        "The goal is to get more stable batches than MNRL + NoDuplicatesBatchSampler / avoid\n",
        "batch size decay."
      ]
    },
    {
      "cell_type": "markdown",
      "metadata": {
        "id": "K4TErhlbBR7_"
      },
      "source": [
        "# Sketch data collator"
      ]
    },
    {
      "cell_type": "markdown",
      "metadata": {
        "id": "izkM7o4tBR7_"
      },
      "source": [
        "We'll need the full set of positives for each anchor so that we don't have false\n",
        "negatives in the `labels` matrix."
      ]
    },
    {
      "cell_type": "code",
      "execution_count": 10,
      "metadata": {
        "colab": {
          "base_uri": "https://localhost:8080/"
        },
        "id": "XpyexmLIBR7_",
        "outputId": "7f6294a9-c0af-4758-f0e9-c189f6e3e1b4"
      },
      "outputs": [
        {
          "data": {
            "text/plain": [
              "356"
            ]
          },
          "execution_count": 10,
          "metadata": {},
          "output_type": "execute_result"
        }
      ],
      "source": [
        "anchor_to_positives = group_positives_by_anchor(train_dataset)\n",
        "len(anchor_to_positives)"
      ]
    },
    {
      "cell_type": "markdown",
      "metadata": {
        "id": "lUG3M94xBR7_"
      },
      "source": [
        "No we'll figure out how data collation will work. Assume the sampler gave us batch\n",
        "indices. (I specifically chose these batch indices b/c 1 of the anchors has multiple\n",
        "positives.)"
      ]
    },
    {
      "cell_type": "code",
      "execution_count": 11,
      "metadata": {
        "colab": {
          "base_uri": "https://localhost:8080/"
        },
        "id": "9IcEYlJ6BR7_",
        "outputId": "efdac0ba-02ef-4bec-ba93-505a8fd5b2c7"
      },
      "outputs": [
        {
          "data": {
            "text/plain": [
              "[2679, 7675, 7221, 7768]"
            ]
          },
          "execution_count": 11,
          "metadata": {},
          "output_type": "execute_result"
        }
      ],
      "source": [
        "# batch_indices = random.sample(range(len(train_dataset)), k=4)\n",
        "batch_indices = [2679, 7675, 7221, 7768]\n",
        "\n",
        "batch_indices"
      ]
    },
    {
      "cell_type": "code",
      "execution_count": 12,
      "metadata": {
        "colab": {
          "base_uri": "https://localhost:8080/"
        },
        "id": "FbmDxHnGBR7_",
        "outputId": "74c2900d-cccd-4b24-f4a1-2bce58101baa"
      },
      "outputs": [
        {
          "data": {
            "text/plain": [
              "[{'anchor': 'A group of people are outside.',\n",
              "  'positive': 'People walking down path below palm trees.',\n",
              "  'negative': 'A group of people are gathered at some type of outdoor event.'},\n",
              " {'anchor': 'The man is standing.',\n",
              "  'positive': 'A man is standing next to a rack with hats hanging on it.',\n",
              "  'negative': 'A man laying on a sidewalk.'},\n",
              " {'anchor': 'The man is playing basketball.',\n",
              "  'positive': 'A man in a basketball game is shooting the ball.',\n",
              "  'negative': 'A swimmer swimming butterfly in a pool'},\n",
              " {'anchor': 'The man is standing.',\n",
              "  'positive': 'Guy in blue jacket and hat standing in front of some type of machinery while starring up with a big smile.',\n",
              "  'negative': 'A man sitting on a newspaper dispenser, behind a sign.'}]"
            ]
          },
          "execution_count": 12,
          "metadata": {},
          "output_type": "execute_result"
        }
      ],
      "source": [
        "batch = [train_dataset[idx] for idx in batch_indices]\n",
        "batch"
      ]
    },
    {
      "cell_type": "code",
      "execution_count": 13,
      "metadata": {
        "id": "LOKtEfcdBR7_"
      },
      "outputs": [],
      "source": [
        "# Using a dict for deterministic (insertion) order.\n",
        "anchors = {record[\"anchor\"]: None for record in batch}\n",
        "positives = {record[\"positive\"]: None for record in batch}\n",
        "negatives = {record[\"negative\"]: None for record in batch}"
      ]
    },
    {
      "cell_type": "code",
      "execution_count": 14,
      "metadata": {
        "colab": {
          "base_uri": "https://localhost:8080/"
        },
        "id": "1bPdT_PfBR7_",
        "outputId": "708a9eae-8a39-4aa5-c1f9-f9893dc26a71"
      },
      "outputs": [
        {
          "data": {
            "text/plain": [
              "{'A group of people are outside.': None,\n",
              " 'The man is standing.': None,\n",
              " 'The man is playing basketball.': None}"
            ]
          },
          "execution_count": 14,
          "metadata": {},
          "output_type": "execute_result"
        }
      ],
      "source": [
        "anchors"
      ]
    },
    {
      "cell_type": "markdown",
      "metadata": {
        "id": "xHyfgP3NBR7_"
      },
      "source": [
        "`'The man is standing.'` is duplicated in this batch. That's fine."
      ]
    },
    {
      "cell_type": "code",
      "execution_count": 15,
      "metadata": {
        "id": "Ybaj5Uk8BR7_"
      },
      "outputs": [],
      "source": [
        "a = len(anchors)\n",
        "p = len(positives)\n",
        "n = len(negatives)\n",
        "\n",
        "# TODO: this is often a really sparse matrix. I don't think PyTorch supports sparse\n",
        "# label matrices. Is there something else we can do?\n",
        "labels = torch.zeros((a, p + n))\n",
        "# The diagonal are 1s. Everything after the p'th column are 0s. There could be 1s on the\n",
        "# off-diagonal in the first p columns. Let's label those.\n",
        "#\n",
        "# TODO: this labeling scales quadratically! Pretty damning operation for batch sizes >\n",
        "# 10_000. I don't think that's worrisome b/c in reality we chunk and accumulate at that\n",
        "# scale (b/c the similarity matrix will be too large).\n",
        "for i, anchor in enumerate(anchors):\n",
        "    for j, positive in enumerate(positives):\n",
        "        labels[i, j] = positive in anchor_to_positives[anchor]"
      ]
    },
    {
      "cell_type": "code",
      "execution_count": 16,
      "metadata": {
        "colab": {
          "base_uri": "https://localhost:8080/"
        },
        "id": "f3kbs6kQBR7_",
        "outputId": "0c61c684-d5c6-4ff6-b7d8-b5310e73f909"
      },
      "outputs": [
        {
          "data": {
            "text/plain": [
              "tensor([[1., 0., 0., 0., 0., 0., 0., 0.],\n",
              "        [0., 1., 0., 1., 0., 0., 0., 0.],\n",
              "        [0., 0., 1., 0., 0., 0., 0., 0.]])"
            ]
          },
          "execution_count": 16,
          "metadata": {},
          "output_type": "execute_result"
        }
      ],
      "source": [
        "labels"
      ]
    },
    {
      "cell_type": "code",
      "execution_count": 17,
      "metadata": {
        "colab": {
          "base_uri": "https://localhost:8080/"
        },
        "id": "O7acrIopBR8A",
        "outputId": "68a10130-0b5b-4765-dae2-27915b841c93"
      },
      "outputs": [
        {
          "data": {
            "text/plain": [
              "{'People walking down path below palm trees.': None,\n",
              " 'A man is standing next to a rack with hats hanging on it.': None,\n",
              " 'A man in a basketball game is shooting the ball.': None,\n",
              " 'Guy in blue jacket and hat standing in front of some type of machinery while starring up with a big smile.': None}"
            ]
          },
          "execution_count": 17,
          "metadata": {},
          "output_type": "execute_result"
        }
      ],
      "source": [
        "positives"
      ]
    },
    {
      "cell_type": "code",
      "execution_count": 18,
      "metadata": {
        "colab": {
          "base_uri": "https://localhost:8080/"
        },
        "id": "0U95Nhg_BR8A",
        "outputId": "34f3d47f-3de7-4ff6-ad40-ec6715bbc9ba"
      },
      "outputs": [
        {
          "data": {
            "text/plain": [
              "{'A group of people are outside.': None,\n",
              " 'The man is standing.': None,\n",
              " 'The man is playing basketball.': None}"
            ]
          },
          "execution_count": 18,
          "metadata": {},
          "output_type": "execute_result"
        }
      ],
      "source": [
        "anchors"
      ]
    },
    {
      "cell_type": "code",
      "execution_count": 19,
      "metadata": {
        "colab": {
          "base_uri": "https://localhost:8080/"
        },
        "id": "XqqDr3i9BR8A",
        "outputId": "876bee50-4db5-4e26-9dbe-8aa06a2bee98"
      },
      "outputs": [
        {
          "data": {
            "text/plain": [
              "[[0], [1, 3], [2]]"
            ]
          },
          "execution_count": 19,
          "metadata": {},
          "output_type": "execute_result"
        }
      ],
      "source": [
        "positive_pairs = [\n",
        "    [\n",
        "        j\n",
        "        for j, positive in enumerate(positives)\n",
        "        if positive in anchor_to_positives[anchor]\n",
        "    ]\n",
        "    for anchor in anchors\n",
        "]\n",
        "positive_pairs"
      ]
    },
    {
      "cell_type": "markdown",
      "metadata": {
        "id": "Wk1mUkNMuZQJ"
      },
      "source": [
        "# Demo - training"
      ]
    },
    {
      "cell_type": "code",
      "execution_count": 22,
      "metadata": {
        "colab": {
          "base_uri": "https://localhost:8080/"
        },
        "id": "mCJgJZTdUha8",
        "outputId": "e20e2b1e-8137-4e73-817b-6e4a5689b73e"
      },
      "outputs": [
        {
          "name": "stdout",
          "output_type": "stream",
          "text": [
            "Using mixed precision in bf16\n"
          ]
        }
      ],
      "source": [
        "if torch.cuda.is_available():\n",
        "    bf16 = torch.cuda.is_bf16_supported()\n",
        "else:\n",
        "    bf16 = False\n",
        "\n",
        "if bf16:\n",
        "    print(\"Using mixed precision in bf16\")\n",
        "else:\n",
        "    print(\"Not using mixed precision\")"
      ]
    },
    {
      "cell_type": "code",
      "execution_count": 23,
      "metadata": {
        "colab": {
          "base_uri": "https://localhost:8080/"
        },
        "id": "vy7qKIOfsO9u",
        "outputId": "e8414f8c-bf33-402a-c0dc-6f3c42baa196"
      },
      "outputs": [
        {
          "name": "stdout",
          "output_type": "stream",
          "text": [
            "Using MPNRL\n"
          ]
        }
      ],
      "source": [
        "# 5, 6. Define training arguments, create the trainer\n",
        "common_args = dict(\n",
        "    # Required parameter:\n",
        "    output_dir=output_dir,\n",
        "    use_mps_device=False,\n",
        "    # Optional training parameters:\n",
        "    num_train_epochs=num_train_epochs,\n",
        "    per_device_train_batch_size=batch_size,\n",
        "    per_device_eval_batch_size=batch_size,\n",
        "    warmup_ratio=0.1,\n",
        "    fp16=False,\n",
        "    bf16=bf16,\n",
        "    seed=42,\n",
        "    # Wandb\n",
        "    report_to=\"wandb\",\n",
        "    logging_steps=1,\n",
        ")\n",
        "\n",
        "if USE_CUSTOM:\n",
        "    print(\"Using **CUSTOM** MPNRL\")\n",
        "    train_loss = MultiplePositivesNegativesRankingLoss(model)\n",
        "    data_collator = MPNRLDataCollator(train_dataset, tokenize_fn=model.tokenize)\n",
        "    more_args = dict(\n",
        "        batch_sampler=BatchSamplers.BATCH_SAMPLER,\n",
        "        # Wandb\n",
        "        run_name=f\"{dataset_name}-mpnrl\",\n",
        "    )\n",
        "else:\n",
        "    print(\"Using OG MNRL\")\n",
        "    train_loss = losses.MultipleNegativesRankingLoss(model)\n",
        "    data_collator = None\n",
        "    more_args = dict(\n",
        "        batch_sampler=BatchSamplers.NO_DUPLICATES,  # MultipleNegativesRankingLoss benefits from no duplicate samples in a batch\n",
        "        # Wandb\n",
        "        run_name=f\"{dataset_name}-mnrl\",\n",
        "    )\n",
        "\n",
        "trainer = SentenceTransformerTrainer(\n",
        "    model=model,\n",
        "    args=SentenceTransformerTrainingArguments(**common_args, **more_args),\n",
        "    train_dataset=train_dataset,\n",
        "    loss=train_loss,\n",
        "    data_collator=data_collator,\n",
        ")"
      ]
    },
    {
      "cell_type": "code",
      "execution_count": 24,
      "metadata": {
        "id": "LqU0H7v1fbGX"
      },
      "outputs": [],
      "source": [
        "if torch.cuda.is_available():\n",
        "    torch.cuda.reset_peak_memory_stats()"
      ]
    },
    {
      "cell_type": "code",
      "execution_count": 25,
      "metadata": {
        "colab": {
          "base_uri": "https://localhost:8080/",
          "height": 127,
          "referenced_widgets": [
            "3e45ef5b97334985be8aae529920210b",
            "e9cbdf580bb84753b4acb089fc84410e",
            "47bf68aa122d4ae9b6e0b762590694d6",
            "1551090c9a9d497b9926711cf240095c",
            "c6e3f588ef374e1ca986a64c527f10e1",
            "f51b33a1caff45e9a3d2dca36f4677ee",
            "8229ee899ba3401198d70c6318b8fe4d",
            "a50efa7a60ce48ad8bb8bac619e5700d",
            "02ebb1ab634f45d39e92e8cf97c7b21c",
            "9a59b6336abd45f685729b059e00443c",
            "ad1d5b503f5e4f23bb46bd2deb43c3c2"
          ]
        },
        "id": "MRM3MB-SQo0u",
        "outputId": "831512b4-da12-43c9-8afb-43d394d94969"
      },
      "outputs": [
        {
          "data": {
            "text/html": [
              "\n",
              "    <div>\n",
              "      \n",
              "      <progress value='79' max='79' style='width:300px; height:20px; vertical-align: middle;'></progress>\n",
              "      [79/79 01:37, Epoch 1/1]\n",
              "    </div>\n",
              "    <table border=\"1\" class=\"dataframe\">\n",
              "  <thead>\n",
              " <tr style=\"text-align: left;\">\n",
              "      <th>Step</th>\n",
              "      <th>Training Loss</th>\n",
              "    </tr>\n",
              "  </thead>\n",
              "  <tbody>\n",
              "  </tbody>\n",
              "</table><p>"
            ],
            "text/plain": [
              "<IPython.core.display.HTML object>"
            ]
          },
          "metadata": {},
          "output_type": "display_data"
        },
        {
          "data": {
            "application/vnd.jupyter.widget-view+json": {
              "model_id": "3e45ef5b97334985be8aae529920210b",
              "version_major": 2,
              "version_minor": 0
            },
            "text/plain": [
              "Computing widget examples:   0%|          | 0/1 [00:00<?, ?example/s]"
            ]
          },
          "metadata": {},
          "output_type": "display_data"
        },
        {
          "data": {
            "text/plain": [
              "TrainOutput(global_step=79, training_loss=1.7303571097458466, metrics={'train_runtime': 100.4997, 'train_samples_per_second': 99.503, 'train_steps_per_second': 0.786, 'total_flos': 0.0, 'train_loss': 1.7303571097458466, 'epoch': 1.0})"
            ]
          },
          "execution_count": 25,
          "metadata": {},
          "output_type": "execute_result"
        }
      ],
      "source": [
        "trainer.train()  # MNRL"
      ]
    },
    {
      "cell_type": "code",
      "execution_count": 25,
      "metadata": {
        "colab": {
          "base_uri": "https://localhost:8080/",
          "height": 127,
          "referenced_widgets": [
            "1802ee264e11472480c8d71c1dfe8410",
            "59ee72a6b756415c95b05c646119b3bc",
            "3bb8e02a9ce64582925048d13ee208eb",
            "1aa546043553420ba81004351ab2c3a8",
            "362a78509bf24289a24c612812d72e84",
            "1c8248a0a2b04f6f99248c32bd6912b2",
            "b5dd51e97dec4b7183f0a19a76f02d0b",
            "98d7fcfa109245b4a090eb0e6ef38392",
            "eb54f5f41d284876a678668f6dde504b",
            "9edcc6692abb4c9da118f74c6c3a1ab8",
            "a7e35397b8ad42c0992e9fe1d5f4c12c"
          ]
        },
        "id": "YkNBMaOax8ce",
        "outputId": "c8f39377-72d8-4667-d281-5099647f250f"
      },
      "outputs": [
        {
          "data": {
            "text/html": [
              "\n",
              "    <div>\n",
              "      \n",
              "      <progress value='79' max='79' style='width:300px; height:20px; vertical-align: middle;'></progress>\n",
              "      [79/79 01:22, Epoch 1/1]\n",
              "    </div>\n",
              "    <table border=\"1\" class=\"dataframe\">\n",
              "  <thead>\n",
              " <tr style=\"text-align: left;\">\n",
              "      <th>Step</th>\n",
              "      <th>Training Loss</th>\n",
              "    </tr>\n",
              "  </thead>\n",
              "  <tbody>\n",
              "  </tbody>\n",
              "</table><p>"
            ],
            "text/plain": [
              "<IPython.core.display.HTML object>"
            ]
          },
          "metadata": {},
          "output_type": "display_data"
        },
        {
          "data": {
            "application/vnd.jupyter.widget-view+json": {
              "model_id": "1802ee264e11472480c8d71c1dfe8410",
              "version_major": 2,
              "version_minor": 0
            },
            "text/plain": [
              "Computing widget examples:   0%|          | 0/1 [00:00<?, ?example/s]"
            ]
          },
          "metadata": {},
          "output_type": "display_data"
        },
        {
          "data": {
            "text/plain": [
              "TrainOutput(global_step=79, training_loss=213.12996934335442, metrics={'train_runtime': 84.6281, 'train_samples_per_second': 118.164, 'train_steps_per_second': 0.933, 'total_flos': 0.0, 'train_loss': 213.12996934335442, 'epoch': 1.0})"
            ]
          },
          "execution_count": 25,
          "metadata": {},
          "output_type": "execute_result"
        }
      ],
      "source": [
        "trainer.train()  # MPNRL (custom)"
      ]
    },
    {
      "cell_type": "code",
      "execution_count": 26,
      "metadata": {
        "colab": {
          "base_uri": "https://localhost:8080/"
        },
        "id": "mUG7QNdo_bKu",
        "outputId": "7f80ccc3-172d-4836-d616-82b0dfe76970"
      },
      "outputs": [
        {
          "name": "stdout",
          "output_type": "stream",
          "text": [
            "Parameter containing:\n",
            "tensor(19.9979, device='cuda:0', requires_grad=True)\n",
            "Parameter containing:\n",
            "tensor(-10.0021, device='cuda:0', requires_grad=True)\n"
          ]
        }
      ],
      "source": [
        "if USE_CUSTOM:  # TODO: understand / debug these\n",
        "    print(train_loss.scale)\n",
        "    print(train_loss.bias)"
      ]
    },
    {
      "cell_type": "code",
      "execution_count": 27,
      "metadata": {
        "colab": {
          "base_uri": "https://localhost:8080/"
        },
        "id": "s9lAllgIfeSL",
        "outputId": "e6942277-e236-4c0a-fb1a-f86df37e8cbc"
      },
      "outputs": [
        {
          "name": "stdout",
          "output_type": "stream",
          "text": [
            "Peak memory allocated: 4.43 GB\n",
            "Peak memory reserved: 4.99 GB\n"
          ]
        }
      ],
      "source": [
        "# MNRL\n",
        "peak_memory_allocated = torch.cuda.max_memory_allocated()\n",
        "peak_memory_reserved = torch.cuda.max_memory_reserved()\n",
        "\n",
        "print(f\"Peak memory allocated: {peak_memory_allocated / 1024**3:.2f} GB\")\n",
        "print(f\"Peak memory reserved: {peak_memory_reserved / 1024**3:.2f} GB\")"
      ]
    },
    {
      "cell_type": "code",
      "execution_count": 27,
      "metadata": {
        "colab": {
          "base_uri": "https://localhost:8080/"
        },
        "id": "jHR6mlRHVUrv",
        "outputId": "e70ac61d-7f32-4223-a41d-8bd4bfefde54"
      },
      "outputs": [
        {
          "name": "stdout",
          "output_type": "stream",
          "text": [
            "Peak memory allocated: 4.62 GB\n",
            "Peak memory reserved: 5.83 GB\n"
          ]
        }
      ],
      "source": [
        "# MPNRL (custom)\n",
        "peak_memory_allocated = torch.cuda.max_memory_allocated()\n",
        "peak_memory_reserved = torch.cuda.max_memory_reserved()\n",
        "\n",
        "print(f\"Peak memory allocated: {peak_memory_allocated / 1024**3:.2f} GB\")\n",
        "print(f\"Peak memory reserved: {peak_memory_reserved / 1024**3:.2f} GB\")"
      ]
    },
    {
      "cell_type": "markdown",
      "metadata": {
        "id": "yNVpqaRCl9kg"
      },
      "source": [
        "# Demo - eval"
      ]
    },
    {
      "cell_type": "code",
      "execution_count": 28,
      "metadata": {
        "id": "kuv2LbxXsO9u"
      },
      "outputs": [],
      "source": [
        "# 7. Evaluate the model performance on the STS Benchmark test dataset\n",
        "test_dataset = load_dataset(\"sentence-transformers/stsb\", split=\"test\")\n",
        "evaluator = EmbeddingSimilarityEvaluator(\n",
        "    sentences1=test_dataset[\"sentence1\"],\n",
        "    sentences2=test_dataset[\"sentence2\"],\n",
        "    scores=test_dataset[\"score\"],\n",
        "    main_similarity=SimilarityFunction.COSINE,\n",
        "    name=\"sts-test\",\n",
        ")"
      ]
    },
    {
      "cell_type": "code",
      "execution_count": 29,
      "metadata": {
        "id": "iSld6G1wCzUH"
      },
      "outputs": [],
      "source": [
        "test_result = evaluator(model)"
      ]
    },
    {
      "cell_type": "code",
      "execution_count": 30,
      "metadata": {
        "colab": {
          "base_uri": "https://localhost:8080/"
        },
        "id": "wGiZbPTnQ71Z",
        "outputId": "d07f139a-175b-436a-c916-ffdd565b3efe"
      },
      "outputs": [
        {
          "data": {
            "text/plain": [
              "{'sts-test_pearson_cosine': 0.7173359658890913,\n",
              " 'sts-test_spearman_cosine': 0.7179704210761317}"
            ]
          },
          "execution_count": 30,
          "metadata": {},
          "output_type": "execute_result"
        }
      ],
      "source": [
        "test_result  # MNRL"
      ]
    },
    {
      "cell_type": "code",
      "execution_count": 30,
      "metadata": {
        "colab": {
          "base_uri": "https://localhost:8080/"
        },
        "id": "BdcnbOKsxvhM",
        "outputId": "ab448fbd-25f2-4de1-c2db-1ed0bbbc15d1"
      },
      "outputs": [
        {
          "data": {
            "text/plain": [
              "{'sts-test_pearson_cosine': 0.7469811106886857,\n",
              " 'sts-test_spearman_cosine': 0.7287394643279475}"
            ]
          },
          "execution_count": 30,
          "metadata": {},
          "output_type": "execute_result"
        }
      ],
      "source": [
        "test_result  # MPNRL (custom)"
      ]
    },
    {
      "cell_type": "markdown",
      "metadata": {},
      "source": [
        "I'm pretty sure the scores are higher b/c we went through more data in MPNRL than MNRL.\n",
        "Prolly diminishing returns for larger data."
      ]
    },
    {
      "cell_type": "code",
      "execution_count": null,
      "metadata": {
        "id": "BzMCwWvIsO9u"
      },
      "outputs": [],
      "source": [
        "# # 8. Save the trained & evaluated model locally\n",
        "# final_output_dir = f\"{output_dir}/final\"\n",
        "# model.save(final_output_dir)\n",
        "# final_output_dir"
      ]
    }
  ],
  "metadata": {
    "accelerator": "GPU",
    "colab": {
      "gpuType": "T4",
      "provenance": [],
      "toc_visible": true
    },
    "kernelspec": {
      "display_name": "mpnrl",
      "language": "python",
      "name": "python3"
    },
    "language_info": {
      "codemirror_mode": {
        "name": "ipython",
        "version": 3
      },
      "file_extension": ".py",
      "mimetype": "text/x-python",
      "name": "python",
      "nbconvert_exporter": "python",
      "pygments_lexer": "ipython3",
      "version": "3.11.8"
    },
    "widgets": {
      "application/vnd.jupyter.widget-state+json": {
        "02ebb1ab634f45d39e92e8cf97c7b21c": {
          "model_module": "@jupyter-widgets/controls",
          "model_module_version": "1.5.0",
          "model_name": "ProgressStyleModel",
          "state": {
            "_model_module": "@jupyter-widgets/controls",
            "_model_module_version": "1.5.0",
            "_model_name": "ProgressStyleModel",
            "_view_count": null,
            "_view_module": "@jupyter-widgets/base",
            "_view_module_version": "1.2.0",
            "_view_name": "StyleView",
            "bar_color": null,
            "description_width": ""
          }
        },
        "1551090c9a9d497b9926711cf240095c": {
          "model_module": "@jupyter-widgets/controls",
          "model_module_version": "1.5.0",
          "model_name": "HTMLModel",
          "state": {
            "_dom_classes": [],
            "_model_module": "@jupyter-widgets/controls",
            "_model_module_version": "1.5.0",
            "_model_name": "HTMLModel",
            "_view_count": null,
            "_view_module": "@jupyter-widgets/controls",
            "_view_module_version": "1.5.0",
            "_view_name": "HTMLView",
            "description": "",
            "description_tooltip": null,
            "layout": "IPY_MODEL_9a59b6336abd45f685729b059e00443c",
            "placeholder": "​",
            "style": "IPY_MODEL_ad1d5b503f5e4f23bb46bd2deb43c3c2",
            "value": " 1/1 [00:00&lt;00:00,  9.00example/s]"
          }
        },
        "1802ee264e11472480c8d71c1dfe8410": {
          "model_module": "@jupyter-widgets/controls",
          "model_module_version": "1.5.0",
          "model_name": "HBoxModel",
          "state": {
            "_dom_classes": [],
            "_model_module": "@jupyter-widgets/controls",
            "_model_module_version": "1.5.0",
            "_model_name": "HBoxModel",
            "_view_count": null,
            "_view_module": "@jupyter-widgets/controls",
            "_view_module_version": "1.5.0",
            "_view_name": "HBoxView",
            "box_style": "",
            "children": [
              "IPY_MODEL_59ee72a6b756415c95b05c646119b3bc",
              "IPY_MODEL_3bb8e02a9ce64582925048d13ee208eb",
              "IPY_MODEL_1aa546043553420ba81004351ab2c3a8"
            ],
            "layout": "IPY_MODEL_362a78509bf24289a24c612812d72e84"
          }
        },
        "1aa546043553420ba81004351ab2c3a8": {
          "model_module": "@jupyter-widgets/controls",
          "model_module_version": "1.5.0",
          "model_name": "HTMLModel",
          "state": {
            "_dom_classes": [],
            "_model_module": "@jupyter-widgets/controls",
            "_model_module_version": "1.5.0",
            "_model_name": "HTMLModel",
            "_view_count": null,
            "_view_module": "@jupyter-widgets/controls",
            "_view_module_version": "1.5.0",
            "_view_name": "HTMLView",
            "description": "",
            "description_tooltip": null,
            "layout": "IPY_MODEL_9edcc6692abb4c9da118f74c6c3a1ab8",
            "placeholder": "​",
            "style": "IPY_MODEL_a7e35397b8ad42c0992e9fe1d5f4c12c",
            "value": " 1/1 [00:00&lt;00:00,  5.96example/s]"
          }
        },
        "1c8248a0a2b04f6f99248c32bd6912b2": {
          "model_module": "@jupyter-widgets/base",
          "model_module_version": "1.2.0",
          "model_name": "LayoutModel",
          "state": {
            "_model_module": "@jupyter-widgets/base",
            "_model_module_version": "1.2.0",
            "_model_name": "LayoutModel",
            "_view_count": null,
            "_view_module": "@jupyter-widgets/base",
            "_view_module_version": "1.2.0",
            "_view_name": "LayoutView",
            "align_content": null,
            "align_items": null,
            "align_self": null,
            "border": null,
            "bottom": null,
            "display": null,
            "flex": null,
            "flex_flow": null,
            "grid_area": null,
            "grid_auto_columns": null,
            "grid_auto_flow": null,
            "grid_auto_rows": null,
            "grid_column": null,
            "grid_gap": null,
            "grid_row": null,
            "grid_template_areas": null,
            "grid_template_columns": null,
            "grid_template_rows": null,
            "height": null,
            "justify_content": null,
            "justify_items": null,
            "left": null,
            "margin": null,
            "max_height": null,
            "max_width": null,
            "min_height": null,
            "min_width": null,
            "object_fit": null,
            "object_position": null,
            "order": null,
            "overflow": null,
            "overflow_x": null,
            "overflow_y": null,
            "padding": null,
            "right": null,
            "top": null,
            "visibility": null,
            "width": null
          }
        },
        "362a78509bf24289a24c612812d72e84": {
          "model_module": "@jupyter-widgets/base",
          "model_module_version": "1.2.0",
          "model_name": "LayoutModel",
          "state": {
            "_model_module": "@jupyter-widgets/base",
            "_model_module_version": "1.2.0",
            "_model_name": "LayoutModel",
            "_view_count": null,
            "_view_module": "@jupyter-widgets/base",
            "_view_module_version": "1.2.0",
            "_view_name": "LayoutView",
            "align_content": null,
            "align_items": null,
            "align_self": null,
            "border": null,
            "bottom": null,
            "display": null,
            "flex": null,
            "flex_flow": null,
            "grid_area": null,
            "grid_auto_columns": null,
            "grid_auto_flow": null,
            "grid_auto_rows": null,
            "grid_column": null,
            "grid_gap": null,
            "grid_row": null,
            "grid_template_areas": null,
            "grid_template_columns": null,
            "grid_template_rows": null,
            "height": null,
            "justify_content": null,
            "justify_items": null,
            "left": null,
            "margin": null,
            "max_height": null,
            "max_width": null,
            "min_height": null,
            "min_width": null,
            "object_fit": null,
            "object_position": null,
            "order": null,
            "overflow": null,
            "overflow_x": null,
            "overflow_y": null,
            "padding": null,
            "right": null,
            "top": null,
            "visibility": "hidden",
            "width": null
          }
        },
        "3bb8e02a9ce64582925048d13ee208eb": {
          "model_module": "@jupyter-widgets/controls",
          "model_module_version": "1.5.0",
          "model_name": "FloatProgressModel",
          "state": {
            "_dom_classes": [],
            "_model_module": "@jupyter-widgets/controls",
            "_model_module_version": "1.5.0",
            "_model_name": "FloatProgressModel",
            "_view_count": null,
            "_view_module": "@jupyter-widgets/controls",
            "_view_module_version": "1.5.0",
            "_view_name": "ProgressView",
            "bar_style": "",
            "description": "",
            "description_tooltip": null,
            "layout": "IPY_MODEL_98d7fcfa109245b4a090eb0e6ef38392",
            "max": 1,
            "min": 0,
            "orientation": "horizontal",
            "style": "IPY_MODEL_eb54f5f41d284876a678668f6dde504b",
            "value": 1
          }
        },
        "3e45ef5b97334985be8aae529920210b": {
          "model_module": "@jupyter-widgets/controls",
          "model_module_version": "1.5.0",
          "model_name": "HBoxModel",
          "state": {
            "_dom_classes": [],
            "_model_module": "@jupyter-widgets/controls",
            "_model_module_version": "1.5.0",
            "_model_name": "HBoxModel",
            "_view_count": null,
            "_view_module": "@jupyter-widgets/controls",
            "_view_module_version": "1.5.0",
            "_view_name": "HBoxView",
            "box_style": "",
            "children": [
              "IPY_MODEL_e9cbdf580bb84753b4acb089fc84410e",
              "IPY_MODEL_47bf68aa122d4ae9b6e0b762590694d6",
              "IPY_MODEL_1551090c9a9d497b9926711cf240095c"
            ],
            "layout": "IPY_MODEL_c6e3f588ef374e1ca986a64c527f10e1"
          }
        },
        "47bf68aa122d4ae9b6e0b762590694d6": {
          "model_module": "@jupyter-widgets/controls",
          "model_module_version": "1.5.0",
          "model_name": "FloatProgressModel",
          "state": {
            "_dom_classes": [],
            "_model_module": "@jupyter-widgets/controls",
            "_model_module_version": "1.5.0",
            "_model_name": "FloatProgressModel",
            "_view_count": null,
            "_view_module": "@jupyter-widgets/controls",
            "_view_module_version": "1.5.0",
            "_view_name": "ProgressView",
            "bar_style": "",
            "description": "",
            "description_tooltip": null,
            "layout": "IPY_MODEL_a50efa7a60ce48ad8bb8bac619e5700d",
            "max": 1,
            "min": 0,
            "orientation": "horizontal",
            "style": "IPY_MODEL_02ebb1ab634f45d39e92e8cf97c7b21c",
            "value": 1
          }
        },
        "59ee72a6b756415c95b05c646119b3bc": {
          "model_module": "@jupyter-widgets/controls",
          "model_module_version": "1.5.0",
          "model_name": "HTMLModel",
          "state": {
            "_dom_classes": [],
            "_model_module": "@jupyter-widgets/controls",
            "_model_module_version": "1.5.0",
            "_model_name": "HTMLModel",
            "_view_count": null,
            "_view_module": "@jupyter-widgets/controls",
            "_view_module_version": "1.5.0",
            "_view_name": "HTMLView",
            "description": "",
            "description_tooltip": null,
            "layout": "IPY_MODEL_1c8248a0a2b04f6f99248c32bd6912b2",
            "placeholder": "​",
            "style": "IPY_MODEL_b5dd51e97dec4b7183f0a19a76f02d0b",
            "value": "Computing widget examples: 100%"
          }
        },
        "8229ee899ba3401198d70c6318b8fe4d": {
          "model_module": "@jupyter-widgets/controls",
          "model_module_version": "1.5.0",
          "model_name": "DescriptionStyleModel",
          "state": {
            "_model_module": "@jupyter-widgets/controls",
            "_model_module_version": "1.5.0",
            "_model_name": "DescriptionStyleModel",
            "_view_count": null,
            "_view_module": "@jupyter-widgets/base",
            "_view_module_version": "1.2.0",
            "_view_name": "StyleView",
            "description_width": ""
          }
        },
        "98d7fcfa109245b4a090eb0e6ef38392": {
          "model_module": "@jupyter-widgets/base",
          "model_module_version": "1.2.0",
          "model_name": "LayoutModel",
          "state": {
            "_model_module": "@jupyter-widgets/base",
            "_model_module_version": "1.2.0",
            "_model_name": "LayoutModel",
            "_view_count": null,
            "_view_module": "@jupyter-widgets/base",
            "_view_module_version": "1.2.0",
            "_view_name": "LayoutView",
            "align_content": null,
            "align_items": null,
            "align_self": null,
            "border": null,
            "bottom": null,
            "display": null,
            "flex": null,
            "flex_flow": null,
            "grid_area": null,
            "grid_auto_columns": null,
            "grid_auto_flow": null,
            "grid_auto_rows": null,
            "grid_column": null,
            "grid_gap": null,
            "grid_row": null,
            "grid_template_areas": null,
            "grid_template_columns": null,
            "grid_template_rows": null,
            "height": null,
            "justify_content": null,
            "justify_items": null,
            "left": null,
            "margin": null,
            "max_height": null,
            "max_width": null,
            "min_height": null,
            "min_width": null,
            "object_fit": null,
            "object_position": null,
            "order": null,
            "overflow": null,
            "overflow_x": null,
            "overflow_y": null,
            "padding": null,
            "right": null,
            "top": null,
            "visibility": null,
            "width": null
          }
        },
        "9a59b6336abd45f685729b059e00443c": {
          "model_module": "@jupyter-widgets/base",
          "model_module_version": "1.2.0",
          "model_name": "LayoutModel",
          "state": {
            "_model_module": "@jupyter-widgets/base",
            "_model_module_version": "1.2.0",
            "_model_name": "LayoutModel",
            "_view_count": null,
            "_view_module": "@jupyter-widgets/base",
            "_view_module_version": "1.2.0",
            "_view_name": "LayoutView",
            "align_content": null,
            "align_items": null,
            "align_self": null,
            "border": null,
            "bottom": null,
            "display": null,
            "flex": null,
            "flex_flow": null,
            "grid_area": null,
            "grid_auto_columns": null,
            "grid_auto_flow": null,
            "grid_auto_rows": null,
            "grid_column": null,
            "grid_gap": null,
            "grid_row": null,
            "grid_template_areas": null,
            "grid_template_columns": null,
            "grid_template_rows": null,
            "height": null,
            "justify_content": null,
            "justify_items": null,
            "left": null,
            "margin": null,
            "max_height": null,
            "max_width": null,
            "min_height": null,
            "min_width": null,
            "object_fit": null,
            "object_position": null,
            "order": null,
            "overflow": null,
            "overflow_x": null,
            "overflow_y": null,
            "padding": null,
            "right": null,
            "top": null,
            "visibility": null,
            "width": null
          }
        },
        "9edcc6692abb4c9da118f74c6c3a1ab8": {
          "model_module": "@jupyter-widgets/base",
          "model_module_version": "1.2.0",
          "model_name": "LayoutModel",
          "state": {
            "_model_module": "@jupyter-widgets/base",
            "_model_module_version": "1.2.0",
            "_model_name": "LayoutModel",
            "_view_count": null,
            "_view_module": "@jupyter-widgets/base",
            "_view_module_version": "1.2.0",
            "_view_name": "LayoutView",
            "align_content": null,
            "align_items": null,
            "align_self": null,
            "border": null,
            "bottom": null,
            "display": null,
            "flex": null,
            "flex_flow": null,
            "grid_area": null,
            "grid_auto_columns": null,
            "grid_auto_flow": null,
            "grid_auto_rows": null,
            "grid_column": null,
            "grid_gap": null,
            "grid_row": null,
            "grid_template_areas": null,
            "grid_template_columns": null,
            "grid_template_rows": null,
            "height": null,
            "justify_content": null,
            "justify_items": null,
            "left": null,
            "margin": null,
            "max_height": null,
            "max_width": null,
            "min_height": null,
            "min_width": null,
            "object_fit": null,
            "object_position": null,
            "order": null,
            "overflow": null,
            "overflow_x": null,
            "overflow_y": null,
            "padding": null,
            "right": null,
            "top": null,
            "visibility": null,
            "width": null
          }
        },
        "a50efa7a60ce48ad8bb8bac619e5700d": {
          "model_module": "@jupyter-widgets/base",
          "model_module_version": "1.2.0",
          "model_name": "LayoutModel",
          "state": {
            "_model_module": "@jupyter-widgets/base",
            "_model_module_version": "1.2.0",
            "_model_name": "LayoutModel",
            "_view_count": null,
            "_view_module": "@jupyter-widgets/base",
            "_view_module_version": "1.2.0",
            "_view_name": "LayoutView",
            "align_content": null,
            "align_items": null,
            "align_self": null,
            "border": null,
            "bottom": null,
            "display": null,
            "flex": null,
            "flex_flow": null,
            "grid_area": null,
            "grid_auto_columns": null,
            "grid_auto_flow": null,
            "grid_auto_rows": null,
            "grid_column": null,
            "grid_gap": null,
            "grid_row": null,
            "grid_template_areas": null,
            "grid_template_columns": null,
            "grid_template_rows": null,
            "height": null,
            "justify_content": null,
            "justify_items": null,
            "left": null,
            "margin": null,
            "max_height": null,
            "max_width": null,
            "min_height": null,
            "min_width": null,
            "object_fit": null,
            "object_position": null,
            "order": null,
            "overflow": null,
            "overflow_x": null,
            "overflow_y": null,
            "padding": null,
            "right": null,
            "top": null,
            "visibility": null,
            "width": null
          }
        },
        "a7e35397b8ad42c0992e9fe1d5f4c12c": {
          "model_module": "@jupyter-widgets/controls",
          "model_module_version": "1.5.0",
          "model_name": "DescriptionStyleModel",
          "state": {
            "_model_module": "@jupyter-widgets/controls",
            "_model_module_version": "1.5.0",
            "_model_name": "DescriptionStyleModel",
            "_view_count": null,
            "_view_module": "@jupyter-widgets/base",
            "_view_module_version": "1.2.0",
            "_view_name": "StyleView",
            "description_width": ""
          }
        },
        "ad1d5b503f5e4f23bb46bd2deb43c3c2": {
          "model_module": "@jupyter-widgets/controls",
          "model_module_version": "1.5.0",
          "model_name": "DescriptionStyleModel",
          "state": {
            "_model_module": "@jupyter-widgets/controls",
            "_model_module_version": "1.5.0",
            "_model_name": "DescriptionStyleModel",
            "_view_count": null,
            "_view_module": "@jupyter-widgets/base",
            "_view_module_version": "1.2.0",
            "_view_name": "StyleView",
            "description_width": ""
          }
        },
        "b5dd51e97dec4b7183f0a19a76f02d0b": {
          "model_module": "@jupyter-widgets/controls",
          "model_module_version": "1.5.0",
          "model_name": "DescriptionStyleModel",
          "state": {
            "_model_module": "@jupyter-widgets/controls",
            "_model_module_version": "1.5.0",
            "_model_name": "DescriptionStyleModel",
            "_view_count": null,
            "_view_module": "@jupyter-widgets/base",
            "_view_module_version": "1.2.0",
            "_view_name": "StyleView",
            "description_width": ""
          }
        },
        "c6e3f588ef374e1ca986a64c527f10e1": {
          "model_module": "@jupyter-widgets/base",
          "model_module_version": "1.2.0",
          "model_name": "LayoutModel",
          "state": {
            "_model_module": "@jupyter-widgets/base",
            "_model_module_version": "1.2.0",
            "_model_name": "LayoutModel",
            "_view_count": null,
            "_view_module": "@jupyter-widgets/base",
            "_view_module_version": "1.2.0",
            "_view_name": "LayoutView",
            "align_content": null,
            "align_items": null,
            "align_self": null,
            "border": null,
            "bottom": null,
            "display": null,
            "flex": null,
            "flex_flow": null,
            "grid_area": null,
            "grid_auto_columns": null,
            "grid_auto_flow": null,
            "grid_auto_rows": null,
            "grid_column": null,
            "grid_gap": null,
            "grid_row": null,
            "grid_template_areas": null,
            "grid_template_columns": null,
            "grid_template_rows": null,
            "height": null,
            "justify_content": null,
            "justify_items": null,
            "left": null,
            "margin": null,
            "max_height": null,
            "max_width": null,
            "min_height": null,
            "min_width": null,
            "object_fit": null,
            "object_position": null,
            "order": null,
            "overflow": null,
            "overflow_x": null,
            "overflow_y": null,
            "padding": null,
            "right": null,
            "top": null,
            "visibility": "hidden",
            "width": null
          }
        },
        "e9cbdf580bb84753b4acb089fc84410e": {
          "model_module": "@jupyter-widgets/controls",
          "model_module_version": "1.5.0",
          "model_name": "HTMLModel",
          "state": {
            "_dom_classes": [],
            "_model_module": "@jupyter-widgets/controls",
            "_model_module_version": "1.5.0",
            "_model_name": "HTMLModel",
            "_view_count": null,
            "_view_module": "@jupyter-widgets/controls",
            "_view_module_version": "1.5.0",
            "_view_name": "HTMLView",
            "description": "",
            "description_tooltip": null,
            "layout": "IPY_MODEL_f51b33a1caff45e9a3d2dca36f4677ee",
            "placeholder": "​",
            "style": "IPY_MODEL_8229ee899ba3401198d70c6318b8fe4d",
            "value": "Computing widget examples: 100%"
          }
        },
        "eb54f5f41d284876a678668f6dde504b": {
          "model_module": "@jupyter-widgets/controls",
          "model_module_version": "1.5.0",
          "model_name": "ProgressStyleModel",
          "state": {
            "_model_module": "@jupyter-widgets/controls",
            "_model_module_version": "1.5.0",
            "_model_name": "ProgressStyleModel",
            "_view_count": null,
            "_view_module": "@jupyter-widgets/base",
            "_view_module_version": "1.2.0",
            "_view_name": "StyleView",
            "bar_color": null,
            "description_width": ""
          }
        },
        "f51b33a1caff45e9a3d2dca36f4677ee": {
          "model_module": "@jupyter-widgets/base",
          "model_module_version": "1.2.0",
          "model_name": "LayoutModel",
          "state": {
            "_model_module": "@jupyter-widgets/base",
            "_model_module_version": "1.2.0",
            "_model_name": "LayoutModel",
            "_view_count": null,
            "_view_module": "@jupyter-widgets/base",
            "_view_module_version": "1.2.0",
            "_view_name": "LayoutView",
            "align_content": null,
            "align_items": null,
            "align_self": null,
            "border": null,
            "bottom": null,
            "display": null,
            "flex": null,
            "flex_flow": null,
            "grid_area": null,
            "grid_auto_columns": null,
            "grid_auto_flow": null,
            "grid_auto_rows": null,
            "grid_column": null,
            "grid_gap": null,
            "grid_row": null,
            "grid_template_areas": null,
            "grid_template_columns": null,
            "grid_template_rows": null,
            "height": null,
            "justify_content": null,
            "justify_items": null,
            "left": null,
            "margin": null,
            "max_height": null,
            "max_width": null,
            "min_height": null,
            "min_width": null,
            "object_fit": null,
            "object_position": null,
            "order": null,
            "overflow": null,
            "overflow_x": null,
            "overflow_y": null,
            "padding": null,
            "right": null,
            "top": null,
            "visibility": null,
            "width": null
          }
        }
      }
    }
  },
  "nbformat": 4,
  "nbformat_minor": 0
}
